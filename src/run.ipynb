{
 "cells": [
  {
   "cell_type": "code",
   "execution_count": null,
   "id": "cedf3d6a",
   "metadata": {
    "vscode": {
     "languageId": "plaintext"
    }
   },
   "outputs": [],
   "source": [
    "from diffusers import StableDiffusionXLPipeline\n",
    "import torch\n",
    "pipe = StableDiffusionXLPipeline.from_pretrained(\n",
    "    \"stabilityai/stable-diffusion-xl-base-1.0\",\n",
    "    torch_dtype=torch.float16\n",
    ").to(\"cuda\")\n",
    "pipe.load_lora_weights(\"lora_sdxl/style_lora.safetensors\", weight_name=None)\n",
    "prompt = \"A fantasy city in watercolor style, ultra detailed\"\n",
    "image = pipe(prompt=prompt, height=1024, width=1024).images[0]\n",
    "image.save(\"styled.png\")\n"
   ]
  }
 ],
 "metadata": {
  "language_info": {
   "name": "python"
  }
 },
 "nbformat": 4,
 "nbformat_minor": 5
}
